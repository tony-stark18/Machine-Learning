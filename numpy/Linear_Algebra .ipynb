{
  "cells": [
    {
      "cell_type": "markdown",
      "metadata": {
        "id": "ZSZx7LBw12OM"
      },
      "source": [
        "NumPy is a powerful library for numerical computing in Python, and it includes a variety of functions for linear algebra operations. Here are some of the key linear algebra functions available in NumPy:"
      ]
    },
    {
      "cell_type": "markdown",
      "metadata": {
        "id": "NqzZ3M__2BG-"
      },
      "source": [
        "# Vector and Matrix Creation:\n",
        "\n",
        "\n",
        "*   `numpy.array`: Creates an array from a list or tuple.\n",
        "*   `numpy.zeros` and `numpy.ones` : Generates arrays filled with zeros or ones.\n",
        "\n",
        "\n",
        "*   `numpy.eye`: Creates an identity matrix.\n",
        "\n",
        "\n",
        "\n"
      ]
    },
    {
      "cell_type": "code",
      "execution_count": 1,
      "metadata": {
        "id": "PAmQNuj52zWg"
      },
      "outputs": [],
      "source": [
        "import numpy as np\n",
        "\n",
        "# Example of array creation\n",
        "arr = np.array([1, 2, 3])\n",
        "matrix = np.array([[1, 2, 3], [4, 5, 6]])\n",
        "\n",
        "# Example of zeros, ones, and identity matrix creation\n",
        "zeros_array = np.zeros((3, 3))\n",
        "ones_array = np.ones((2, 4))\n",
        "identity_matrix = np.eye(3)"
      ]
    },
    {
      "cell_type": "code",
      "execution_count": 2,
      "metadata": {
        "colab": {
          "base_uri": "https://localhost:8080/"
        },
        "id": "8VtR6A8g20pl",
        "outputId": "2d255cc1-2019-4b0c-9ea3-999501807bae"
      },
      "outputs": [
        {
          "data": {
            "text/plain": [
              "array([[0., 0., 0.],\n",
              "       [0., 0., 0.],\n",
              "       [0., 0., 0.]])"
            ]
          },
          "execution_count": 2,
          "metadata": {},
          "output_type": "execute_result"
        }
      ],
      "source": [
        "zeros_array"
      ]
    },
    {
      "cell_type": "code",
      "execution_count": 3,
      "metadata": {
        "colab": {
          "base_uri": "https://localhost:8080/"
        },
        "id": "0p2zS2EI27R1",
        "outputId": "f85fdb14-f43b-4a57-dd3e-d94d2fab3d31"
      },
      "outputs": [
        {
          "data": {
            "text/plain": [
              "array([[1., 1., 1., 1.],\n",
              "       [1., 1., 1., 1.]])"
            ]
          },
          "execution_count": 3,
          "metadata": {},
          "output_type": "execute_result"
        }
      ],
      "source": [
        "ones_array"
      ]
    },
    {
      "cell_type": "code",
      "execution_count": 5,
      "metadata": {
        "colab": {
          "base_uri": "https://localhost:8080/"
        },
        "id": "pSGQJfGN29lr",
        "outputId": "47cb7aea-dbff-4a53-ab38-d29252215f7d"
      },
      "outputs": [
        {
          "data": {
            "text/plain": [
              "array([[1., 0., 0.],\n",
              "       [0., 1., 0.],\n",
              "       [0., 0., 1.]])"
            ]
          },
          "execution_count": 5,
          "metadata": {},
          "output_type": "execute_result"
        }
      ],
      "source": [
        "identity_matrix"
      ]
    },
    {
      "cell_type": "markdown",
      "metadata": {
        "id": "PWjTc-R13Jai"
      },
      "source": [
        "# Matrix Operations:"
      ]
    },
    {
      "cell_type": "markdown",
      "metadata": {
        "id": "BPL3rm8L3dva"
      },
      "source": [
        "\n",
        "\n",
        "*   `numpy.dot` or `@`: Performs matrix multiplication.\n",
        "*   `numpy.transpose` or `.T`: Transposes a matrix.\n",
        "\n"
      ]
    },
    {
      "cell_type": "code",
      "execution_count": 9,
      "metadata": {
        "id": "NnpuqZGs3v7x"
      },
      "outputs": [],
      "source": [
        "# Example of matrix multiplication and transpose\n",
        "result = np.dot(matrix, arr)\n",
        "transposed_matrix = matrix.T"
      ]
    },
    {
      "cell_type": "code",
      "execution_count": 11,
      "metadata": {
        "colab": {
          "base_uri": "https://localhost:8080/"
        },
        "id": "fKyHVaIM30yz",
        "outputId": "01ddb1dc-3274-484a-859f-ce9a9dfa2daa"
      },
      "outputs": [
        {
          "data": {
            "text/plain": [
              "array([14, 32])"
            ]
          },
          "execution_count": 11,
          "metadata": {},
          "output_type": "execute_result"
        }
      ],
      "source": [
        "result"
      ]
    },
    {
      "cell_type": "code",
      "execution_count": 12,
      "metadata": {
        "colab": {
          "base_uri": "https://localhost:8080/"
        },
        "id": "XONeMlSh4sNl",
        "outputId": "f50fa4c0-99d8-41bc-e900-117f7e6e4918"
      },
      "outputs": [
        {
          "data": {
            "text/plain": [
              "array([[1, 4],\n",
              "       [2, 5],\n",
              "       [3, 6]])"
            ]
          },
          "execution_count": 12,
          "metadata": {},
          "output_type": "execute_result"
        }
      ],
      "source": [
        "transposed_matrix"
      ]
    },
    {
      "cell_type": "markdown",
      "metadata": {
        "id": "ttTkDHDG40H3"
      },
      "source": [
        "# Matrix Inversion and Determinant:\n",
        "\n",
        "\n",
        "*   `numpy.linalg.inv`: Computes the inverse of a square matrix.\n",
        "*   `numpy.linalg.det`: Calculates the determinant of a square matrix."
      ]
    },
    {
      "cell_type": "code",
      "execution_count": 15,
      "metadata": {
        "id": "Uhqb8j8I5Am0"
      },
      "outputs": [],
      "source": [
        "# Example of matrix inversion and determinant\n",
        "matrix = np.array([[1,2],[3,4]])\n",
        "inverse_matrix = np.linalg.inv(matrix)\n",
        "determinant_value = np.linalg.det(matrix)\n"
      ]
    },
    {
      "cell_type": "code",
      "execution_count": 16,
      "metadata": {
        "colab": {
          "base_uri": "https://localhost:8080/"
        },
        "id": "IlQxm0vx5G8w",
        "outputId": "faf586ce-1bd0-4bb2-c669-1d15c6d2cf03"
      },
      "outputs": [
        {
          "data": {
            "text/plain": [
              "array([[-2. ,  1. ],\n",
              "       [ 1.5, -0.5]])"
            ]
          },
          "execution_count": 16,
          "metadata": {},
          "output_type": "execute_result"
        }
      ],
      "source": [
        "inverse_matrix"
      ]
    },
    {
      "cell_type": "code",
      "execution_count": 17,
      "metadata": {
        "colab": {
          "base_uri": "https://localhost:8080/"
        },
        "id": "J8-z0Lc15k3Q",
        "outputId": "5f6ae3bc-1916-4741-c91e-5e0049541a46"
      },
      "outputs": [
        {
          "data": {
            "text/plain": [
              "-2.0000000000000004"
            ]
          },
          "execution_count": 17,
          "metadata": {},
          "output_type": "execute_result"
        }
      ],
      "source": [
        "determinant_value"
      ]
    },
    {
      "cell_type": "markdown",
      "metadata": {
        "id": "Um7_rwCc5vp_"
      },
      "source": [
        "# Eigenvalues and Eigenvectors:\n",
        "\n",
        "\n",
        "*   `numpy.linalg.eig`: Computes the eigenvalues and eigenvectors of a square matrix.\n",
        "\n"
      ]
    },
    {
      "cell_type": "code",
      "execution_count": 18,
      "metadata": {
        "id": "jqb8vfgw534A"
      },
      "outputs": [],
      "source": [
        "# Example of eigenvalues and eigenvectors\n",
        "eigenvalues, eigenvectors = np.linalg.eig(matrix)"
      ]
    },
    {
      "cell_type": "code",
      "execution_count": 19,
      "metadata": {
        "colab": {
          "base_uri": "https://localhost:8080/"
        },
        "id": "X65tK1yR57RP",
        "outputId": "d8093600-5875-494d-e27b-1de4ea81f9cc"
      },
      "outputs": [
        {
          "data": {
            "text/plain": [
              "array([-0.37228132,  5.37228132])"
            ]
          },
          "execution_count": 19,
          "metadata": {},
          "output_type": "execute_result"
        }
      ],
      "source": [
        "eigenvalues"
      ]
    },
    {
      "cell_type": "code",
      "execution_count": 20,
      "metadata": {
        "colab": {
          "base_uri": "https://localhost:8080/"
        },
        "id": "epjQHpC2593W",
        "outputId": "30f7f5d7-5709-4c0f-da3e-1e2823333fdb"
      },
      "outputs": [
        {
          "data": {
            "text/plain": [
              "array([[-0.82456484, -0.41597356],\n",
              "       [ 0.56576746, -0.90937671]])"
            ]
          },
          "execution_count": 20,
          "metadata": {},
          "output_type": "execute_result"
        }
      ],
      "source": [
        "eigenvectors"
      ]
    },
    {
      "cell_type": "markdown",
      "metadata": {
        "id": "71ZsDkVx6F6g"
      },
      "source": [
        "#Solving Linear Systems:\n",
        "\n",
        "\n",
        "*   `numpy.linalg.solve`: Solves a linear system of equations.\n",
        "\n",
        "  \n",
        "\n",
        "> The system of linear equations corresponding to the given NumPy code is:\\\n",
        "2x + 3y = 5\\\n",
        "4x + 5y = 7\n",
        "\n",
        "\n"
      ]
    },
    {
      "cell_type": "code",
      "execution_count": 21,
      "metadata": {
        "id": "EkmEJImZ6P1q"
      },
      "outputs": [],
      "source": [
        "# Example of solving a linear system\n",
        "coefficients = np.array([[2, 3], [4, 5]])\n",
        "constants = np.array([5, 7])\n",
        "solution = np.linalg.solve(coefficients, constants)\n"
      ]
    },
    {
      "cell_type": "markdown",
      "metadata": {
        "id": "zMQfLmUh7k6e"
      },
      "source": [
        "~ diptiranjan"
      ]
    }
  ],
  "metadata": {
    "colab": {
      "provenance": []
    },
    "kernelspec": {
      "display_name": "Python 3",
      "name": "python3"
    },
    "language_info": {
      "name": "python"
    }
  },
  "nbformat": 4,
  "nbformat_minor": 0
}
